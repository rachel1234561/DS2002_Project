{
  "cells": [
    {
      "cell_type": "markdown",
      "metadata": {
        "id": "view-in-github",
        "colab_type": "text"
      },
      "source": [
        "<a href=\"https://colab.research.google.com/github/rachel1234561/DS2002_Project/blob/main/converting_and_summaries.ipynb\" target=\"_parent\"><img src=\"https://colab.research.google.com/assets/colab-badge.svg\" alt=\"Open In Colab\"/></a>"
      ]
    },
    {
      "cell_type": "code",
      "execution_count": 1,
      "metadata": {
        "colab": {
          "base_uri": "https://localhost:8080/"
        },
        "id": "7tY2Znjrntnz",
        "outputId": "fc793d48-f70a-4d8c-9858-88dc8c395dcd"
      },
      "outputs": [
        {
          "output_type": "stream",
          "name": "stdout",
          "text": [
            "Cloning into 'DS2002_Project'...\n",
            "remote: Enumerating objects: 62, done.\u001b[K\n",
            "remote: Counting objects: 100% (62/62), done.\u001b[K\n",
            "remote: Compressing objects: 100% (60/60), done.\u001b[K\n",
            "remote: Total 62 (delta 30), reused 0 (delta 0), pack-reused 0 (from 0)\u001b[K\n",
            "Receiving objects: 100% (62/62), 4.63 MiB | 3.31 MiB/s, done.\n",
            "Resolving deltas: 100% (30/30), done.\n"
          ]
        }
      ],
      "source": [
        "!git clone https://github.com/rachel1234561/DS2002_Project.git"
      ]
    },
    {
      "cell_type": "code",
      "execution_count": 2,
      "metadata": {
        "collapsed": true,
        "id": "Ww6xABzLDUKb"
      },
      "outputs": [],
      "source": [
        "import pandas as pd\n",
        "import json\n",
        "import requests\n",
        "import sqlite3"
      ]
    },
    {
      "cell_type": "code",
      "execution_count": 3,
      "metadata": {
        "id": "KlYjQ5uQGu8k"
      },
      "outputs": [],
      "source": [
        "#the function takes the data being converted and the format of the data\n",
        "def convert_data(input_data, input_format):\n",
        "    # make input data a pandas df and handle errors\n",
        "    if input_format == 'csv':\n",
        "        #save csv as df\n",
        "        df = pd.read_csv(input_data)\n",
        "        #print a summary of the data file ingestion\n",
        "        num_records = len(df)\n",
        "        num_columns = len(df.columns)\n",
        "        print(\"Summary of the data file ingestion:\")\n",
        "        print(\"Number of records:\" + str(num_records))\n",
        "        print(\"Number of columns:\" + str(num_columns))\n",
        "        print(\"\")\n",
        "    elif input_format == 'json':\n",
        "        #save json as df\n",
        "        data = json.loads(input_data)\n",
        "        #code below resolves the issue of data dictionaries within data dictionaries\n",
        "        columns_data = data['meta']['view']['columns']\n",
        "        columns = [column['name'] for column in columns_data]\n",
        "        df = pd.DataFrame(data['data'], columns=columns)\n",
        "        #print a summary of the data file ingestion\n",
        "        print(\"summary of the data file ingestion:\\n\")\n",
        "        print(\"Number of records:\" + str(len(df)))\n",
        "        print(\"Number of columns:\" + str(len(df.columns)))\n",
        "    else:\n",
        "        print(\"Invalid input format. Choose 'csv' or 'json'.\")\n",
        "\n",
        "    # column deletion\n",
        "    print(f\"Columns: {df.columns.tolist()}\\n\")\n",
        "    # columns to keep/drop\n",
        "    drop_columns = input(\"Enter comma-separated column names to drop, or leave blank to keep all: \")\n",
        "    if drop_columns:\n",
        "        drop_columns = [col.strip() for col in drop_columns.split(',')]\n",
        "        df = df.drop(columns=drop_columns, errors='ignore')\n",
        "        print(f\"Columns after dropping: {df.columns.tolist()}\")\n",
        "\n",
        "    #ask use to input their prefered file type\n",
        "    output_format = input('Enter output format (csv, json, sql): ')\n",
        "    # Output data as the correct file type\n",
        "    #saves a csv to files\n",
        "    if output_format == 'csv':\n",
        "        df.to_csv('output.csv')\n",
        "        # Post-processing summary\n",
        "        print(\"Post-processing summary:\")\n",
        "        print(\"Number of records:\", len(pd.read_csv('output.csv')))\n",
        "        print(\"Number of columns:\", len(pd.read_csv('output.csv').columns))\n",
        "    #saves a json file to files (also might need to debug this part)\n",
        "    elif output_format == 'json':\n",
        "        df.to_json('output.json')\n",
        "        # Post-processing summary (I used stack overflow to debug this part)\n",
        "        with open('output.json', 'r') as f:\n",
        "         data = json.load(f)\n",
        "        print(\"Post-processing summary:\")\n",
        "        print(\"Number of records:\", len(df))\n",
        "        print(\"Number of columns:\", len(data))\n",
        "    #saves to a sql db + db file in files\n",
        "    elif output_format == 'sql':\n",
        "      connection = sqlite3.connect('output.db')\n",
        "      cursor = connection.cursor()\n",
        "      connection.close()\n",
        "      # Post-processing summary (SQL)\n",
        "      connection = sqlite3.connect('output.db')\n",
        "      cursor = connection.cursor()\n",
        "      # ensure data type is compatable with sql\n",
        "      for column in df.columns:\n",
        "        if df[column].dtype not in [int, float, bool, object,str]:\n",
        "            df[column] = df[column].astype(str)\n",
        "        df[column] = df[column].apply(lambda x: json.dumps(x) if isinstance(x, (list, dict)) else x) #I used ai debug to add this line\n",
        "      df.to_sql('output', connection, if_exists='replace', index=False)\n",
        "      cursor.execute(\"SELECT COUNT(*) FROM output\")\n",
        "      num_records = cursor.fetchone()[0]\n",
        "      cursor.execute(\"SELECT COUNT(*) FROM pragma_table_info('output')\")\n",
        "      num_columns = cursor.fetchone()[0]\n",
        "      connection.close()\n",
        "      print(\"Post-processing summary (SQL):\")\n",
        "      print(\"Number of records:\", num_records)\n",
        "      print(\"Number of columns:\", num_columns)\n",
        "    else:\n",
        "        print(\"Invalid output format. Choose 'csv', 'json', or 'sql'.\")"
      ]
    },
    {
      "cell_type": "code",
      "execution_count": 4,
      "metadata": {
        "colab": {
          "base_uri": "https://localhost:8080/"
        },
        "collapsed": true,
        "id": "ikPgcjcEHrzj",
        "outputId": "167bd2e3-0e96-4389-bd20-56cfbf3907b8"
      },
      "outputs": [
        {
          "output_type": "stream",
          "name": "stdout",
          "text": [
            "Summary of the data file ingestion:\n",
            "Number of records:77\n",
            "Number of columns:16\n",
            "\n",
            "Columns: ['name', 'mfr', 'type', 'calories', 'protein', 'fat', 'sodium', 'fiber', 'carbo', 'sugars', 'potass', 'vitamins', 'shelf', 'weight', 'cups', 'rating']\n",
            "\n",
            "Enter comma-separated column names to drop, or leave blank to keep all: fiber\n",
            "Columns after dropping: ['name', 'mfr', 'type', 'calories', 'protein', 'fat', 'sodium', 'carbo', 'sugars', 'potass', 'vitamins', 'shelf', 'weight', 'cups', 'rating']\n",
            "Enter output format (csv, json, sql): json\n",
            "Post-processing summary:\n",
            "Number of records: 77\n",
            "Number of columns: 15\n"
          ]
        }
      ],
      "source": [
        "#pass the path to the csv to the function\n",
        "convert_data('/content/DS2002_Project/cereal.csv', 'csv')"
      ]
    },
    {
      "cell_type": "code",
      "execution_count": 7,
      "metadata": {
        "colab": {
          "base_uri": "https://localhost:8080/"
        },
        "id": "ECHpd3hP1Uto",
        "outputId": "e9f90f67-6a5f-4784-f9c4-5013a914f8de"
      },
      "outputs": [
        {
          "output_type": "stream",
          "name": "stdout",
          "text": [
            "summary of the data file ingestion:\n",
            "\n",
            "Number of records:67\n",
            "Number of columns:25\n",
            "Columns: ['sid', 'id', 'position', 'created_at', 'created_meta', 'updated_at', 'updated_meta', 'meta', 'Animal ID', 'Intake Type', 'In Date', 'Pet name', 'Animal Type', 'Pet Age', 'Pet Size', 'Color', 'Breed', 'Sex', 'URL Link ', 'Crossing', 'Council Districts', 'Councils', 'Communities', 'Zip Codes', 'Municipalities']\n",
            "\n",
            "Enter comma-separated column names to drop, or leave blank to keep all: created_at\n",
            "Columns after dropping: ['sid', 'id', 'position', 'created_meta', 'updated_at', 'updated_meta', 'meta', 'Animal ID', 'Intake Type', 'In Date', 'Pet name', 'Animal Type', 'Pet Age', 'Pet Size', 'Color', 'Breed', 'Sex', 'URL Link ', 'Crossing', 'Council Districts', 'Councils', 'Communities', 'Zip Codes', 'Municipalities']\n",
            "Enter output format (csv, json, sql): sql\n",
            "Post-processing summary (SQL):\n",
            "Number of records: 67\n",
            "Number of columns: 24\n"
          ]
        }
      ],
      "source": [
        "#pass json to the file\n",
        "#this is an api from data.gov that has adoptoble pets from Montgomery County of Maryland?\n",
        "url = 'https://data.montgomerycountymd.gov/api/views/e54u-qx42/rows.json?accessType=DOWNLOAD'\n",
        "response = requests.get(url)\n",
        "convert_data(response.text, 'json')"
      ]
    },
    {
      "cell_type": "code",
      "execution_count": 8,
      "metadata": {
        "colab": {
          "base_uri": "https://localhost:8080/"
        },
        "collapsed": true,
        "id": "5zEl9-aa6Nle",
        "outputId": "37651a1d-3c16-4701-de6f-c7448d005e31"
      },
      "outputs": [
        {
          "output_type": "stream",
          "name": "stdout",
          "text": [
            "('row-ggrz-t92v.hmx5', '00000000-0000-0000-9381-CD0B9342B326', 0, None, 1726437633, None, '{ }', 'A523470', 'OWNER SUR', '2024-09-15T00:00:00', 'NORMAN', 'OTHER', '3 YEARS', 'MED', 'TRICOLOR', 'GUINEA PIG', 'M', '[\"http://www.petharbor.com/get_image.asp?res=DETAIL&id=A523470&location=MONT\", null]', None, None, None, None, None, None)\n",
            "('row-ydq3.5gqi-jqax', '00000000-0000-0000-EB42-8398A52B1875', 0, None, 1726596036, None, '{ }', 'A523467', 'OWNER SUR', '2024-09-15T00:00:00', 'RODNEY', 'OTHER', '3 YEARS', 'MED', 'BROWN / WHITE', 'GUINEA PIG', 'M', '[\"http://www.petharbor.com/get_image.asp?res=DETAIL&id=A523467&location=MONT\", null]', None, None, None, None, None, None)\n",
            "('row-34rj~3y9n~4n8k', '00000000-0000-0000-9E8F-12A9B9B03884', 0, None, 1727539234, None, '{ }', 'A425626', 'OWNER SUR', '2024-09-17T00:00:00', 'TOBY', 'DOG', '8 YEARS', 'LARGE', 'TAN / WHITE', 'AM PIT BULL TER / MIX', 'N', '[\"http://www.petharbor.com/get_image.asp?res=DETAIL&id=A425626&location=MONT\", null]', None, None, None, None, None, None)\n",
            "('row-qn6s-pe5p_jgyu', '00000000-0000-0000-7F2C-993F331747F0', 0, None, 1727892055, None, '{ }', 'A523106', 'FOSTER', '2024-10-02T00:00:00', '*SHIRLEY', 'DOG', '1 YEAR 1 MONTH', 'MED', 'BROWN / WHITE', 'ALASKAN HUSKY', 'S', '[\"http://www.petharbor.com/get_image.asp?res=DETAIL&id=A523106&location=MONT\", null]', None, None, None, None, None, None)\n",
            "('row-db64~q24e_fvhr', '00000000-0000-0000-38F8-B542E2C5B4E7', 0, None, 1727892055, None, '{ }', 'A523105', 'FOSTER', '2024-10-02T00:00:00', '*LAVERNE', 'DOG', '1 YEAR 1 MONTH', 'MED', 'BROWN / WHITE', 'ALASKAN HUSKY', 'S', '[\"http://www.petharbor.com/get_image.asp?res=DETAIL&id=A523105&location=MONT\", null]', None, None, None, None, None, None)\n",
            "('row-ytrj.cqv7.3wm3', '00000000-0000-0000-15E8-445E747E355E', 0, None, 1727892055, None, '{ }', 'A510411', 'OWNER SUR', '2024-10-01T00:00:00', 'GEORGIA', 'CAT', '14 YEARS', 'X-LRG', 'BRN TABBY / WHITE', 'DOMESTIC SH', 'S', '[\"http://www.petharbor.com/get_image.asp?res=DETAIL&id=A510411&location=MONT\", null]', None, None, None, None, None, None)\n",
            "('row-84ri~qkd4-4tp2', '00000000-0000-0000-8780-DB9E38881F15', 0, None, 1727704831, None, '{ }', 'A524085', 'OWNER SUR', '2024-09-29T00:00:00', '*SSSSLEET', 'OTHER', 'NO AGE', 'MED', 'BROWN / BLACK', 'SNAKE', 'U', '[\"http://www.petharbor.com/get_image.asp?res=DETAIL&id=A524085&location=MONT\", null]', None, None, None, None, None, None)\n",
            "('row-b79i-kd2p-2267', '00000000-0000-0000-96E3-36D095BD066D', 0, None, 1714507244, None, '{ }', 'A518499', 'OWNER SUR', '2024-04-27T00:00:00', 'DJ', 'OTHER', 'NO AGE', 'SMALL', 'GREEN', 'TURTLE / REDEARED SLIDER', 'F', '[\"http://www.petharbor.com/get_image.asp?res=DETAIL&id=A518499&location=MONT\", null]', None, None, None, None, None, None)\n",
            "('row-k7dw-fmev_8f8f', '00000000-0000-0000-F425-181DAD7B7E04', 0, None, 1727704831, None, '{ }', 'A524084', 'OWNER SUR', '2024-09-29T00:00:00', '*SSSSNOWY', 'OTHER', 'NO AGE', 'MED', 'BROWN / BLACK', 'SNAKE', 'U', '[\"http://www.petharbor.com/get_image.asp?res=DETAIL&id=A524084&location=MONT\", null]', None, None, None, None, None, None)\n",
            "('row-6zin~gwms-q5ag', '00000000-0000-0000-C29F-1F92D1EBFD8D', 0, None, 1728410452, None, '{ }', 'A488833', 'OWNER SUR', '2024-09-01T00:00:00', 'KANE', 'DOG', '3 YEARS', 'LARGE', 'BRINDLE / WHITE', 'BOXER / MIX', 'N', '[\"http://www.petharbor.com/get_image.asp?res=DETAIL&id=A488833&location=MONT\", null]', None, None, None, None, None, None)\n",
            "('row-qick_msuv_6nhx', '00000000-0000-0000-2AE6-442D18413344', 0, None, 1727755237, None, '{ }', 'A523472', 'OWNER SUR', '2024-09-15T00:00:00', 'RUE', 'OTHER', '1 YEAR 1 MONTH', 'MED', 'SILVER', 'RAT', 'F', '[\"http://www.petharbor.com/get_image.asp?res=DETAIL&id=A523472&location=MONT\", null]', None, None, None, None, None, None)\n",
            "('row-7hwr.73bi.udy2', '00000000-0000-0000-DFF3-40585105C4A7', 0, None, 1727755237, None, '{ }', 'A523475', 'OWNER SUR', '2024-09-15T00:00:00', 'RUBY', 'OTHER', '1 YEAR 1 MONTH', 'MED', 'WHITE / BROWN', 'RAT', 'F', '[\"http://www.petharbor.com/get_image.asp?res=DETAIL&id=A523475&location=MONT\", null]', None, None, None, None, None, None)\n",
            "('row-xwmx.yyai~fa3d', '00000000-0000-0000-23F7-DA7BDF0CCB01', 0, None, 1727755237, None, '{ }', 'A523471', 'OWNER SUR', '2024-09-15T00:00:00', 'SUMMER', 'OTHER', '1 YEAR 1 MONTH', 'MED', 'BROWN', 'RAT', 'F', '[\"http://www.petharbor.com/get_image.asp?res=DETAIL&id=A523471&location=MONT\", null]', None, None, None, None, None, None)\n",
            "('row-x2hn-m58w.dm3d', '00000000-0000-0000-9FBE-A55AD65AD07D', 0, None, 1727272838, None, '{ }', 'A476852', 'OWNER SUR', '2024-09-09T00:00:00', 'TAZ', 'DOG', '6 YEARS', 'MED', 'BLACK', 'AM PIT BULL TER', 'N', '[\"http://www.petharbor.com/get_image.asp?res=DETAIL&id=A476852&location=MONT\", null]', None, None, None, None, None, None)\n",
            "('row-p4yb.s4jc~2z7r', '00000000-0000-0000-E13E-C522CB01A376', 0, None, 1727712033, None, '{ }', 'A524086', 'OWNER SUR', '2024-09-29T00:00:00', '*MISSSSTY', 'OTHER', 'NO AGE', 'MED', 'BROWN / BLACK', 'SNAKE', 'U', '[\"http://www.petharbor.com/get_image.asp?res=DETAIL&id=A524086&location=MONT\", null]', None, None, None, None, None, None)\n",
            "('row-us53.fqm9.g3dq', '00000000-0000-0000-A91F-645730FDE1D4', 0, None, 1727755237, None, '{ }', 'A517709', 'RETURN', '2024-09-19T00:00:00', 'REMY', 'DOG', '1 YEAR 6 MONTHS', 'LARGE', 'TAN / WHITE', 'MASTIFF / AMER BULLDOG', 'N', '[\"http://www.petharbor.com/get_image.asp?res=DETAIL&id=A517709&location=MONT\", null]', None, None, None, None, None, None)\n",
            "('row-suud_7tjt_dcyk', '00000000-0000-0000-A13E-8664F48E1717', 0, None, 1727755237, None, '{ }', 'A523468', 'OWNER SUR', '2024-09-15T00:00:00', 'SONIC', 'OTHER', '1 YEAR 1 MONTH', 'MED', 'BROWN / WHITE', 'GUINEA PIG', 'M', '[\"http://www.petharbor.com/get_image.asp?res=DETAIL&id=A523468&location=MONT\", null]', None, None, None, None, None, None)\n",
            "('row-kpsu-bp94-b9h8', '00000000-0000-0000-C973-6323649ECFC1', 0, None, 1727884845, None, '{ }', 'A512748', 'OWNER SUR', '2024-07-08T00:00:00', 'MISSY', 'DOG', '1 YEAR 11 MONTHS', 'LARGE', 'BRINDLE / WHITE', 'AM PIT BULL TER', 'S', '[\"http://www.petharbor.com/get_image.asp?res=DETAIL&id=A512748&location=MONT\", null]', None, None, None, None, None, None)\n",
            "('row-uxe3~kyb9-54ut', '00000000-0000-0000-7918-0398E6455AAA', 0, None, 1727892055, None, '{ }', 'A510410', 'OWNER SUR', '2024-10-01T00:00:00', 'VINCENT', 'CAT', '14 YEARS', 'X-LRG', 'BLACK / WHITE', 'DOMESTIC SH', 'N', '[\"http://www.petharbor.com/get_image.asp?res=DETAIL&id=A510410&location=MONT\", null]', None, None, None, None, None, None)\n",
            "('row-tncf.6ium_k48c', '00000000-0000-0000-4EF6-251C9487D771', 0, None, 1728050445, None, '{ }', 'A516562', 'OWNER SUR', '2024-08-09T00:00:00', 'ROCKY', 'DOG', '2 YEARS', 'MED', 'GRAY', 'AM PIT BULL TER', 'N', '[\"http://www.petharbor.com/get_image.asp?res=DETAIL&id=A516562&location=MONT\", null]', None, None, None, None, None, None)\n",
            "('row-42eq~ya7d.xg59', '00000000-0000-0000-54F2-F3F55964FEEB', 0, None, 1728158443, None, '{ }', 'A524311', 'OWNER SUR', '2024-10-05T00:00:00', 'MAX', 'OTHER', '5 YEARS', 'SMALL', 'BLONDE', 'RABBIT SH', 'M', '[\"http://www.petharbor.com/get_image.asp?res=DETAIL&id=A524311&location=MONT\", null]', None, None, None, None, None, None)\n",
            "('row-yybc~325i_bpqt', '00000000-0000-0000-C4E8-26B0828700C8', 0, None, 1728244841, None, '{ }', 'A524170', 'OWNER SUR', '2024-10-01T00:00:00', 'CUPCAKE', 'OTHER', '5 YEARS', 'LARGE', 'BLACK', 'TURTLE / REDEARED SLIDER', 'F', '[\"http://www.petharbor.com/get_image.asp?res=DETAIL&id=A524170&location=MONT\", null]', None, None, None, None, None, None)\n",
            "('row-v5k2.trte~ijch', '00000000-0000-0000-EC48-42175DF97A14', 0, None, 1728309645, None, '{ }', 'A523228', 'CONFISCATE', '2024-09-09T00:00:00', '*ROMAN 1', 'BIRD', 'NO AGE', 'MED', 'BLACK / WHITE', 'TURKEY', 'U', '[\"http://www.petharbor.com/get_image.asp?res=DETAIL&id=A523228&location=MONT\", null]', None, None, None, None, None, None)\n",
            "('row-s2er~vas5_pi7e', '00000000-0000-0000-76C0-E28106722071', 0, None, 1728410452, None, '{ }', 'A433059', 'OWNER SUR', '2024-09-12T00:00:00', 'MR. PICKLES', 'DOG', '7 YEARS', 'MED', 'BROWN / WHITE', 'SIBERIAN HUSKY', 'N', '[\"http://www.petharbor.com/get_image.asp?res=DETAIL&id=A433059&location=MONT\", null]', None, None, None, None, None, None)\n",
            "('row-2s5m~empg-4fp6', '00000000-0000-0000-DBE5-621016EE0AF0', 0, None, 1728482445, None, '{ }', 'A524293', 'OWNER SUR', '2024-10-05T00:00:00', '*CAREN', 'OTHER', '6 YEARS', 'SMALL', 'BROWN', 'TURTLE', 'U', '[\"http://www.petharbor.com/get_image.asp?res=DETAIL&id=A524293&location=MONT\", null]', None, None, None, None, None, None)\n",
            "('row-t4ay~sy5w~5s2u', '00000000-0000-0000-1C29-CA54E09780D1', 0, None, 1728482445, None, '{ }', 'A522194', 'OWNER SUR', '2024-08-15T00:00:00', 'HATCHI', 'DOG', '10 MONTHS', 'MED', 'BROWN / WHITE', 'AUST SHEPHERD / LABRADOR RETR', 'N', '[\"http://www.petharbor.com/get_image.asp?res=DETAIL&id=A522194&location=MONT\", null]', None, None, None, None, None, None)\n",
            "('row-cqb2.hjmm_r2vn', '00000000-0000-0000-9FF8-B1B7A9ACA6CF', 0, None, 1728676845, None, '{ }', 'A479885', 'OWNER SUR', '2024-10-04T00:00:00', 'JASPER', 'DOG', '8 YEARS', 'X-LRG', 'WHITE / TAN', 'GREAT PYRENEES / AUST CATTLE DOG', 'N', '[\"http://www.petharbor.com/get_image.asp?res=DETAIL&id=A479885&location=MONT\", null]', None, None, None, None, None, None)\n",
            "('row-w8mr-8cn5.wvxu', '00000000-0000-0000-D60F-63A6976EC863', 0, None, 1728835242, None, '{ }', 'A515663', 'OWNER SUR', '2024-09-07T00:00:00', '*HALEY', 'DOG', '8 MONTHS', 'PUPPY', 'BLACK / WHITE', 'AM PIT BULL TER', 'S', '[\"http://www.petharbor.com/get_image.asp?res=DETAIL&id=A515663&location=MONT\", null]', None, None, None, None, None, None)\n",
            "('row-u9uv-mn9j-3sw2', '00000000-0000-0000-A8FB-592653CD8716', 0, None, 1728835242, None, '{ }', 'A524562', 'OWNER SUR', '2024-10-13T00:00:00', 'PIGGY', 'OTHER', 'NO AGE', 'MED', 'BROWN', 'TURTLE / REDEARED SLIDER', 'F', '[\"http://www.petharbor.com/get_image.asp?res=DETAIL&id=A524562&location=MONT\", null]', None, None, None, None, None, None)\n",
            "('row-t83z-cbw2-7yup', '00000000-0000-0000-BA36-4B9F18A37EC9', 0, None, 1728849644, None, '{ }', 'A524570', 'OWNER SUR', '2024-10-13T00:00:00', 'KENSHIN', 'OTHER', '2 YEARS', 'MED', 'GRAY', 'CHINCHILLA', 'M', '[\"http://www.petharbor.com/get_image.asp?res=DETAIL&id=A524570&location=MONT\", null]', None, None, None, None, None, None)\n",
            "('row-4pk9-dhqa_2t62', '00000000-0000-0000-3530-4063B535CC5A', 0, None, 1728921643, None, '{ }', 'A523905', 'OWNER SUR', '2024-09-24T00:00:00', 'CHEECH', 'DOG', '4 YEARS', 'LARGE', 'WHITE', 'AM PIT BULL TER / MIX', 'N', '[\"http://www.petharbor.com/get_image.asp?res=DETAIL&id=A523905&location=MONT\", null]', None, None, None, None, None, None)\n",
            "('row-rjji-qjqv.qziq', '00000000-0000-0000-059A-B6F811A6CB79', 0, None, 1728921643, None, '{ }', 'A521383', 'FOSTER', '2024-08-29T00:00:00', '*WALDO', 'DOG', '1 YEAR 3 MONTHS', 'LARGE', 'BROWN / WHITE', 'AM PIT BULL TER', 'N', '[\"http://www.petharbor.com/get_image.asp?res=DETAIL&id=A521383&location=MONT\", null]', None, None, None, None, None, None)\n",
            "('row-9pqp~x8w6_wmv2', '00000000-0000-0000-327A-7A5FC59CD3CD', 0, None, 1729008043, None, '{ }', 'A524455', 'OWNER SUR', '2024-10-09T00:00:00', '*BOOGIE', 'CAT', '6 MONTHS', 'MED', 'BLACK', 'DOMESTIC SH', 'N', '[\"http://www.petharbor.com/get_image.asp?res=DETAIL&id=A524455&location=MONT\", null]', None, None, None, None, None, None)\n",
            "('row-ejnr-f949~tvzn', '00000000-0000-0000-9445-38E6BC97FF28', 0, None, 1728950443, None, '{ }', 'A524294', 'OWNER SUR', '2024-10-05T00:00:00', '*CEE CEE', 'OTHER', '6 YEARS', 'SMALL', 'BROWN', 'TURTLE', 'M', '[\"http://www.petharbor.com/get_image.asp?res=DETAIL&id=A524294&location=MONT\", null]', None, None, None, None, None, None)\n",
            "('row-2v6e~gs86.6v2e', '00000000-0000-0000-036B-08FAA92EF158', 0, None, 1728950443, None, '{ }', 'A524295', 'OWNER SUR', '2024-10-05T00:00:00', '*CONNOR', 'OTHER', '3 YEARS', 'SMALL', 'BROWN', 'TURTLE', 'M', '[\"http://www.petharbor.com/get_image.asp?res=DETAIL&id=A524295&location=MONT\", null]', None, None, None, None, None, None)\n",
            "('row-4zm7-s59r_22y3', '00000000-0000-0000-1703-5269020A0F84', 0, None, 1729008043, None, '{ }', 'A524454', 'OWNER SUR', '2024-10-09T00:00:00', '*SCOOT', 'CAT', '6 MONTHS', 'MED', 'GRAY', 'DOMESTIC SH', 'N', '[\"http://www.petharbor.com/get_image.asp?res=DETAIL&id=A524454&location=MONT\", null]', None, None, None, None, None, None)\n",
            "('row-892u_9xf2-3g7y', '00000000-0000-0000-A1E8-8F62C9908803', 0, None, 1729008043, None, '{ }', 'A524453', 'OWNER SUR', '2024-10-09T00:00:00', '*BOOT', 'CAT', '6 MONTHS', 'MED', 'WHITE / ORANGE', 'DOMESTIC SH', 'N', '[\"http://www.petharbor.com/get_image.asp?res=DETAIL&id=A524453&location=MONT\", null]', None, None, None, None, None, None)\n",
            "('row-882j.xd25-kw3j', '00000000-0000-0000-26C5-BA375BFC0469', 0, None, 1729094441, None, '{ }', 'A522987', 'FOSTER', '2024-10-02T00:00:00', '*PEACH', 'DOG', '3 YEARS', 'LARGE', 'BLACK / WHITE', 'PLOTT HOUND / MIX', 'S', '[\"http://www.petharbor.com/get_image.asp?res=DETAIL&id=A522987&location=MONT\", null]', None, None, None, None, None, None)\n",
            "('row-kppq-i4ic.gahn', '00000000-0000-0000-BC79-6E348F7A26D6', 0, None, 1729094441, None, '{ }', 'A523980', 'EUTH REQ', '2024-09-26T00:00:00', 'NINO', 'CAT', '2 YEARS', 'MED', 'BLACK', 'DOMESTIC SH', 'N', '[\"http://www.petharbor.com/get_image.asp?res=DETAIL&id=A523980&location=MONT\", null]', None, None, None, None, None, None)\n",
            "('row-xvnv-nsek-6rzu', '00000000-0000-0000-7438-8EDD0A01C39E', 0, None, 1729094441, None, '{ }', 'A523231', 'BOARDING', '2024-09-09T00:00:00', '*HILTON', 'DOG', '3 YEARS', 'LARGE', 'TRI/BLACK / WHITE', 'SIBERIAN HUSKY', 'N', '[\"http://www.petharbor.com/get_image.asp?res=DETAIL&id=A523231&location=MONT\", null]', None, None, None, None, None, None)\n",
            "('row-9v2u_xa4u-grjh', '00000000-0000-0000-7C9B-FC38404F8B93', 0, None, 1729123247, None, '{ }', 'A523317', 'OWNER SUR', '2024-09-11T00:00:00', 'DRAMATICZ', 'DOG', '1 YEAR 6 MONTHS', 'MED', 'BROWN / WHITE', 'AM PIT BULL TER', 'S', '[\"http://www.petharbor.com/get_image.asp?res=DETAIL&id=A523317&location=MONT\", null]', None, None, None, None, None, None)\n",
            "('row-yz7t~f4wi-uwkx', '00000000-0000-0000-3335-C863D7C22429', 0, None, 1729123247, None, '{ }', 'A523316', 'OWNER SUR', '2024-09-11T00:00:00', 'SASSY', 'DOG', '1 YEAR 6 MONTHS', 'MED', 'BROWN / WHITE', 'AM PIT BULL TER', 'S', '[\"http://www.petharbor.com/get_image.asp?res=DETAIL&id=A523316&location=MONT\", null]', None, None, None, None, None, None)\n",
            "('row-hzh6~ubk5~avwp', '00000000-0000-0000-C3E7-64EB2EC248A7', 0, None, 1729137648, None, '{ }', 'A524451', 'OWNER SUR', '2024-10-09T00:00:00', '*BRAZIL', 'CAT', '6 MONTHS', 'MED', 'GRAY TAB / WHITE', 'DOMESTIC SH', 'S', '[\"http://www.petharbor.com/get_image.asp?res=DETAIL&id=A524451&location=MONT\", null]', None, None, None, None, None, None)\n",
            "('row-gz9y~44em-bbyx', '00000000-0000-0000-E9F1-7599FBF707CD', 0, None, 1729137648, None, '{ }', 'A524450', 'OWNER SUR', '2024-10-09T00:00:00', '*SPAIN', 'CAT', '6 MONTHS', 'MED', 'DIL CALICO', 'DOMESTIC SH', 'S', '[\"http://www.petharbor.com/get_image.asp?res=DETAIL&id=A524450&location=MONT\", null]', None, None, None, None, None, None)\n",
            "('row-smch_74c5_qhyg', '00000000-0000-0000-ABD6-F1B6F5B31A25', 0, None, 1729137648, None, '{ }', 'A524452', 'OWNER SUR', '2024-10-09T00:00:00', '*CHILE', 'CAT', '6 MONTHS', 'MED', 'TORTIE', 'DOMESTIC SH', 'S', '[\"http://www.petharbor.com/get_image.asp?res=DETAIL&id=A524452&location=MONT\", null]', None, None, None, None, None, None)\n",
            "('row-ynnx.g8s8~24zz', '00000000-0000-0000-30C5-19208E7566E9', 0, None, 1729137648, None, '{ }', 'A523323', 'BOARDING', '2024-09-11T00:00:00', 'OREO', 'DOG', '8 MONTHS', 'MED', 'BLACK / WHITE', 'STAFFORDSHIRE / LABRADOR RETR', 'S', '[\"http://www.petharbor.com/get_image.asp?res=DETAIL&id=A523323&location=MONT\", null]', None, None, None, None, None, None)\n",
            "('row-uc4y_8vcb-uhjs', '00000000-0000-0000-BF55-6A12EED81155', 0, None, 1729137648, None, '{ }', 'A524449', 'OWNER SUR', '2024-10-09T00:00:00', '*ITALY', 'CAT', '6 MONTHS', 'MED', 'WHITE / ORANGE', 'DOMESTIC SH', 'S', '[\"http://www.petharbor.com/get_image.asp?res=DETAIL&id=A524449&location=MONT\", null]', None, None, None, None, None, None)\n",
            "('row-v4qk_rd29~ac6s', '00000000-0000-0000-2C9A-C66B60D89291', 0, None, 1729137648, None, '{ }', 'A523342', 'FOSTER', '2024-09-28T00:00:00', '*PEBBLES', 'DOG', '1 YEAR 1 MONTH', 'LARGE', 'TAN / WHITE', 'SIBERIAN HUSKY / LABRADOR RETR', 'S', '[\"http://www.petharbor.com/get_image.asp?res=DETAIL&id=A523342&location=MONT\", null]', None, None, None, None, None, None)\n",
            "('row-ezt7~t245_htvt', '00000000-0000-0000-2098-28A955BAD81E', 0, None, 1729180845, None, '{ }', 'A522984', 'RETURN', '2024-10-16T00:00:00', 'GABRIEL', 'CAT', '10 YEARS', 'LARGE', 'WHITE / BLACK', 'DOMESTIC SH', 'N', '[\"http://www.petharbor.com/get_image.asp?res=DETAIL&id=A522984&location=MONT\", null]', None, None, None, None, None, None)\n",
            "('row-688e-78q8~whf6', '00000000-0000-0000-A183-B083BC3D717A', 0, None, 1729180845, None, '{ }', 'A508644', 'OWNER SUR', '2024-06-30T00:00:00', 'JULIET', 'DOG', '2 YEARS', 'MED', 'BROWN / WHITE', 'AM PIT BULL TER', 'S', '[\"http://www.petharbor.com/get_image.asp?res=DETAIL&id=A508644&location=MONT\", null]', None, None, None, None, None, None)\n",
            "('row-v8xe-qbkz~rcxs', '00000000-0000-0000-5640-D3AEE3383305', 0, None, 1729195241, None, '{ }', 'A524543', 'OWNER SUR', '2024-10-12T00:00:00', 'SKYE', 'DOG', '4 YEARS', 'MED', 'BRINDLE / WHITE', 'ALASKAN HUSKY / AM PIT BULL TER', 'S', '[\"http://www.petharbor.com/get_image.asp?res=DETAIL&id=A524543&location=MONT\", null]', None, None, None, None, None, None)\n",
            "('row-rhs9_p9ny~uxnh', '00000000-0000-0000-3C67-F2A366307674', 0, None, 1729260042, None, '{ }', 'A522706', 'FOSTER', '2024-10-18T00:00:00', '*ARNOLD', 'DOG', '1 YEAR 2 MONTHS', 'LARGE', 'BROWN', 'AM PIT BULL TER / MIX', 'N', '[\"http://www.petharbor.com/get_image.asp?res=DETAIL&id=A522706&location=MONT\", null]', None, None, None, None, None, None)\n",
            "('row-7gbn.uftj.ef9m', '00000000-0000-0000-2C8C-F40D03728027', 0, None, 1729267243, None, '{ }', 'A520705', 'STRAY', '2024-07-07T00:00:00', '*BULLET', 'DOG', '1 YEAR 3 MONTHS', 'LARGE', 'GRAY / WHITE', 'AKITA / MIX', 'N', '[\"http://www.petharbor.com/get_image.asp?res=DETAIL&id=A520705&location=MONT\", null]', '18400 GUILDBERRY DR, GAITHERSBURG MD 20879', '4', '4', '36', '31', '1')\n",
            "('row-z7y5.6fwn-hs84', '00000000-0000-0000-487A-75D010999434', 0, None, 1729267243, None, '{ }', 'A524232', 'STRAY', '2024-10-03T00:00:00', '*SAMMY', 'CAT', '3 YEARS', 'MED', 'ORANGE TAB', 'DOMESTIC SH', 'N', '[\"http://www.petharbor.com/get_image.asp?res=DETAIL&id=A524232&location=MONT\", null]', '0 SPRING ST, GAITHERSBURG MD 20877', None, None, None, None, None)\n",
            "('row-cptv-n42s_8633', '00000000-0000-0000-9373-6FAE9DA7DFE8', 0, None, 1729267243, None, '{ }', 'A523515', 'STRAY', '2024-09-16T00:00:00', '*TIRAMISU', 'DOG', '4 YEARS', 'MED', 'BROWN / WHITE', 'AM PIT BULL TER', 'N', '[\"http://www.petharbor.com/get_image.asp?res=DETAIL&id=A523515&location=MONT\", null]', '3200 SPARTAN RD, OLNEY MD 20832', '4', '4', '58', '100', '1')\n",
            "('row-rxi5~psfe_ju23', '00000000-0000-0000-3C42-3CDDC3110661', 0, None, 1729267243, None, '{ }', 'A523949', 'STRAY', '2024-09-25T00:00:00', '*HAPPY', 'OTHER', 'NO AGE', 'SMALL', 'BROWN / WHITE', 'HAMSTER', 'F', '[\"http://www.petharbor.com/get_image.asp?res=DETAIL&id=A523949&location=MONT\", null]', '7700 DEMOCRACY BLVD, BETHESDA MD 20817', '1', '1', '12', '103', '1')\n",
            "('row-vrt3~3cad-ng4j', '00000000-0000-0000-3F47-67B27A9EE069', 0, None, 1729267243, None, '{ }', 'A524439', 'STRAY', '2024-10-09T00:00:00', '*GARDENER', 'OTHER', '1 YEAR', 'MED', 'BLACK', 'RABBIT SH', 'N', '[\"http://www.petharbor.com/get_image.asp?res=DETAIL&id=A524439&location=MONT\", null]', '9800 BETHESDA CHURCH RD, DAMASCUS MD 20872', '2', '2', '51', '42', '1')\n",
            "('row-6c3u.8bjn.48df', '00000000-0000-0000-B89F-05562FA252CF', 0, None, 1729267243, None, '{ }', 'A524135', 'STRAY', '2024-09-30T00:00:00', '*ARPA', 'CAT', '1 YEAR 1 MONTH', 'MED', 'WHITE / GRAY', 'DOMESTIC SH', 'S', '[\"http://www.petharbor.com/get_image.asp?res=DETAIL&id=A524135&location=MONT\", null]', '11500 TABER ST, SILVER SPRING MD 20902', '4', '4', '16', '17', '1')\n",
            "('row-q5xp~zvyn_xvx4', '00000000-0000-0000-A3B0-8CBC7F19661A', 0, None, 1729267243, None, '{ }', 'A523952', 'STRAY', '2024-09-25T00:00:00', '*BASHFUL', 'OTHER', 'NO AGE', 'SMALL', 'GRAY / WHITE', 'HAMSTER', 'F', '[\"http://www.petharbor.com/get_image.asp?res=DETAIL&id=A523952&location=MONT\", null]', '7700 DEMOCRACY BLVD, BETHESDA MD 20817', '1', '1', '12', '103', '1')\n",
            "('row-q7g7~n7hg_intg', '00000000-0000-0000-E1C6-2F905D8968C9', 0, None, 1729267243, None, '{ }', 'A523951', 'STRAY', '2024-09-25T00:00:00', '*SLEEPY', 'OTHER', 'NO AGE', 'SMALL', 'GRAY / WHITE', 'HAMSTER', 'F', '[\"http://www.petharbor.com/get_image.asp?res=DETAIL&id=A523951&location=MONT\", null]', '7700 DEMOCRACY BLVD, BETHESDA MD 20817', '1', '1', '12', '103', '1')\n",
            "('row-i57t~aazy.c5kq', '00000000-0000-0000-66A9-B590F8F84622', 0, None, 1729267243, None, '{ }', 'A520093', 'RETURN', '2024-10-06T00:00:00', '*IGGY', 'DOG', '1 YEAR 2 MONTHS', 'MED', 'CHOCOLATE / WHITE', 'AM PIT BULL TER', 'S', '[\"http://www.petharbor.com/get_image.asp?res=DETAIL&id=A520093&location=MONT\", null]', None, None, None, None, None, None)\n",
            "('row-fcwb~xkda-hiiu', '00000000-0000-0000-1670-6B9D810A5152', 0, None, 1729267243, None, '{ }', 'A523950', 'STRAY', '2024-09-25T00:00:00', '*SNEEZY', 'OTHER', 'NO AGE', 'SMALL', 'GRAY / WHITE', 'HAMSTER', 'F', '[\"http://www.petharbor.com/get_image.asp?res=DETAIL&id=A523950&location=MONT\", null]', '7700 DEMOCRACY BLVD, BETHESDA MD 20817', '1', '1', '12', '103', '1')\n",
            "('row-9qwb-ujsw~sdfj', '00000000-0000-0000-9BD4-49F355256372', 0, None, 1729267243, None, '{ }', 'A523946', 'STRAY', '2024-09-25T00:00:00', '*DOPEY', 'OTHER', 'NO AGE', 'SMALL', 'WHITE', 'HAMSTER', 'M', '[\"http://www.petharbor.com/get_image.asp?res=DETAIL&id=A523946&location=MONT\", null]', '7700 DEMOCRACY BLVD, BETHESDA MD 20817', '1', '1', '12', '103', '1')\n",
            "('row-5m8f.tmba_k44k', '00000000-0000-0000-2279-FD89A41A0369', 0, None, 1729267243, None, '{ }', 'A523947', 'STRAY', '2024-09-25T00:00:00', '*SNOW WHITE', 'OTHER', 'NO AGE', 'SMALL', 'GRAY / WHITE', 'HAMSTER', 'F', '[\"http://www.petharbor.com/get_image.asp?res=DETAIL&id=A523947&location=MONT\", null]', '7700 DEMOCRACY BLVD, BETHESDA MD 20817', '1', '1', '12', '103', '1')\n",
            "('row-xj2a_mh42_k6d2', '00000000-0000-0000-51AB-949EE31B113D', 0, None, 1729267243, None, '{ }', 'A524347', 'STRAY', '2024-10-06T00:00:00', 'DOVE', 'BIRD', 'NO AGE', 'MED', 'WHITE / RED', 'PIGEON', 'U', '[\"http://www.petharbor.com/get_image.asp?res=DETAIL&id=A524347&location=MONT\", null]', '4900 BRADLEY BLVD, CHEVY CHASE MD 20815', '1', '1', '5', '110', '1')\n",
            "('row-4p3g-b295.fchg', '00000000-0000-0000-0674-03A5938200A2', 0, None, 1729267243, None, '{ }', 'A521124', 'STRAY', '2024-07-18T00:00:00', '*CHANEL', 'DOG', '3 YEARS', 'LARGE', 'BRINDLE', 'AM PIT BULL TER', 'S', '[\"http://www.petharbor.com/get_image.asp?res=DETAIL&id=A521124&location=MONT\", null]', '8000 GEORGIA AVE, SILVER SPRING MD 20910', '5', '5', '7', '3065', '1')\n",
            "('row-h34q~vdk4.m8yn', '00000000-0000-0000-04D1-E7658D16CD62', 0, None, 1729267243, None, '{ }', 'A524526', 'STRAY', '2024-10-11T00:00:00', '*FERN', 'OTHER', '1 YEAR', 'SMALL', 'BLACK / TAN', 'RABBIT SH', 'S', '[\"http://www.petharbor.com/get_image.asp?res=DETAIL&id=A524526&location=MONT\", null]', '3400 FREDALE ST, SILVER SPRING MD 20906', '4', '4', '23', '6', '1')\n"
          ]
        }
      ],
      "source": [
        "#this is to test to see if the SQL is working\n",
        "connection = sqlite3.connect('output.db')\n",
        "cursor = connection.cursor()\n",
        "cursor.execute(\"SELECT * FROM output\")\n",
        "rows = cursor.fetchall()\n",
        "for row in rows:\n",
        "    print(row)\n",
        "connection.close()"
      ]
    },
    {
      "cell_type": "code",
      "execution_count": null,
      "metadata": {
        "collapsed": true,
        "id": "Ywa771lw7Ljo"
      },
      "outputs": [],
      "source": [
        "#this is to test to see if the json part is working\n",
        "#I used stack to figure out how to show the output.json in pretty print\n",
        "with open('output.json', 'r') as f:\n",
        "  data = json.load(f)\n",
        "print(json.dumps(data, indent=1))"
      ]
    }
  ],
  "metadata": {
    "colab": {
      "provenance": [],
      "include_colab_link": true
    },
    "kernelspec": {
      "display_name": "Python 3",
      "name": "python3"
    },
    "language_info": {
      "name": "python"
    }
  },
  "nbformat": 4,
  "nbformat_minor": 0
}
